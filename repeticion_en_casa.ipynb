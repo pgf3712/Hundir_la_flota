{
 "cells": [
  {
   "cell_type": "code",
   "execution_count": 1,
   "metadata": {},
   "outputs": [],
   "source": [
    "import numpy as np"
   ]
  },
  {
   "cell_type": "code",
   "execution_count": 6,
   "metadata": {},
   "outputs": [
    {
     "name": "stdout",
     "output_type": "stream",
     "text": [
      "[['_' '_' '_' '_' '_' '_' '_' '_' '_' '_']\n",
      " ['_' '_' '_' '_' '_' '_' '_' '_' '_' '_']\n",
      " ['_' '_' '_' '_' '_' '_' '_' '_' '_' '_']\n",
      " ['_' '_' '_' '_' '_' '_' '_' '_' '_' '_']\n",
      " ['_' '_' '_' '_' '_' '_' '_' '_' '_' '_']\n",
      " ['_' '_' '_' '_' '_' '_' '_' '_' '_' '_']\n",
      " ['_' '_' '_' '_' '_' '_' '_' '_' '_' '_']\n",
      " ['_' '_' '_' '_' '_' '_' '_' '_' '_' '_']\n",
      " ['_' '_' '_' '_' '_' '_' '_' '_' '_' '_']\n",
      " ['_' '_' '_' '_' '_' '_' '_' '_' '_' '_']]\n"
     ]
    }
   ],
   "source": [
    "tablero = np.full((10,10), \"_\")\n",
    "print(tablero)"
   ]
  },
  {
   "cell_type": "code",
   "execution_count": 13,
   "metadata": {},
   "outputs": [
    {
     "data": {
      "text/plain": [
       "array([['_', '_', '_', '_', '_', '_', '_', '_', '_', '_'],\n",
       "       ['_', '_', '_', '_', '_', '_', '_', '_', '_', '_'],\n",
       "       ['_', '_', '_', '_', '_', '_', '_', '_', '_', '_'],\n",
       "       ['_', '_', '_', '_', '_', '_', '_', '_', '_', '_'],\n",
       "       ['_', '_', '_', '_', '_', '_', '_', '_', '_', '_'],\n",
       "       ['_', '_', '_', '_', '_', '_', '_', '_', '_', '_'],\n",
       "       ['_', '_', '_', '_', '_', '_', '_', '_', '_', '_'],\n",
       "       ['_', '_', '_', '_', '_', '_', '_', '_', '_', '_'],\n",
       "       ['_', '_', '_', '_', '_', '_', '_', '_', '_', '_'],\n",
       "       ['_', '_', '_', '_', '_', '_', '_', '_', '_', '_']], dtype='<U1')"
      ]
     },
     "execution_count": 13,
     "metadata": {},
     "output_type": "execute_result"
    }
   ],
   "source": [
    "tamaño = 10\n",
    "\n",
    "def crear_tablero(tamaño):\n",
    "    \n",
    "    tablero = np.full((tamaño,tamaño), \"_\")\n",
    "    return tablero\n",
    "\n",
    "crear_tablero(tamaño)\n"
   ]
  },
  {
   "cell_type": "code",
   "execution_count": 14,
   "metadata": {},
   "outputs": [],
   "source": [
    "barco_1 = [(0,1), (1,1)]    #tamaño, tamaño\n",
    "barco_2 = [(1,3), (1,4), (1,5), (1,6)]    #tamaño, tamaño"
   ]
  },
  {
   "cell_type": "code",
   "execution_count": 15,
   "metadata": {},
   "outputs": [
    {
     "name": "stdout",
     "output_type": "stream",
     "text": [
      "[['_' 'O' '_' '_' '_' '_' '_' '_' '_' '_']\n",
      " ['_' 'O' '_' 'O' 'O' 'O' 'O' '_' '_' '_']\n",
      " ['_' '_' '_' '_' '_' '_' '_' '_' '_' '_']\n",
      " ['_' '_' '_' '_' '_' '_' '_' '_' '_' '_']\n",
      " ['_' '_' '_' '_' '_' '_' '_' '_' '_' '_']\n",
      " ['_' '_' '_' '_' '_' '_' '_' '_' '_' '_']\n",
      " ['_' '_' '_' '_' '_' '_' '_' '_' '_' '_']\n",
      " ['_' '_' '_' '_' '_' '_' '_' '_' '_' '_']\n",
      " ['_' '_' '_' '_' '_' '_' '_' '_' '_' '_']\n",
      " ['_' '_' '_' '_' '_' '_' '_' '_' '_' '_']]\n"
     ]
    }
   ],
   "source": [
    "# tablero[(0,1)] = \"O\"\n",
    "for casilla in barco_1:\n",
    "    tablero[casilla] = \"O\"\n",
    "for casilla in barco_2:\n",
    "    tablero[casilla] = \"O\"\n",
    "print(tablero)"
   ]
  },
  {
   "cell_type": "code",
   "execution_count": 16,
   "metadata": {},
   "outputs": [],
   "source": [
    "def colocar_barco(barco, tablero):\n",
    "    for casilla in barco:\n",
    "        tablero[casilla] = \"O\"\n",
    "    return tablero"
   ]
  },
  {
   "cell_type": "code",
   "execution_count": 19,
   "metadata": {},
   "outputs": [
    {
     "name": "stdout",
     "output_type": "stream",
     "text": [
      "[['_' 'O' '_' '_' '_' '_' '_' '_' '_' '_']\n",
      " ['_' 'O' '_' 'O' 'O' 'O' 'O' '_' '_' '_']\n",
      " ['_' '_' '_' '_' '_' '_' '_' '_' '_' '_']\n",
      " ['_' '_' '_' '_' '_' '_' '_' '_' '_' '_']\n",
      " ['_' '_' '_' '_' '_' '_' '_' '_' '_' '_']\n",
      " ['_' '_' '_' '_' '_' '_' '_' '_' '_' '_']\n",
      " ['_' '_' '_' '_' '_' '_' '_' '_' '_' '_']\n",
      " ['_' '_' '_' '_' '_' '_' '_' '_' '_' '_']\n",
      " ['_' '_' '_' '_' '_' '_' '_' '_' '_' '_']\n",
      " ['_' '_' '_' '_' '_' '_' '_' '_' '_' '_']]\n"
     ]
    }
   ],
   "source": [
    "tablero = crear_tablero(10)\n",
    "\n",
    "barco_1 = [(0,1), (1,1)] \n",
    "barco_2 = [(1,3), (1,4), (1,5), (1,6)]\n",
    "\n",
    "tablero = colocar_barco(barco_1, tablero)   #se sobreesriben\n",
    "tablero = colocar_barco(barco_2, tablero)\n",
    "\n",
    "print(tablero)"
   ]
  },
  {
   "cell_type": "code",
   "execution_count": 20,
   "metadata": {},
   "outputs": [],
   "source": [
    "def disparar(casilla, tablero):\n",
    "    if tablero[casilla] == \"O\":     #si ya hay un barquito\n",
    "        print(\"Tocado\")\n",
    "        tablero[casilla] = \"X\"\n",
    "    else:                             #o sea si es un \"_\"\n",
    "        print(\"Agua\")\n",
    "        tablero[casilla] = \"A\"\n",
    "    return tablero"
   ]
  },
  {
   "cell_type": "code",
   "execution_count": 21,
   "metadata": {},
   "outputs": [
    {
     "name": "stdout",
     "output_type": "stream",
     "text": [
      "Agua\n",
      "Tocado\n",
      "Tocado\n",
      "[['A' 'X' '_' '_' '_' '_' '_' '_' '_' '_']\n",
      " ['_' 'X' '_' 'O' 'O' 'O' 'O' '_' '_' '_']\n",
      " ['_' '_' '_' '_' '_' '_' '_' '_' '_' '_']\n",
      " ['_' '_' '_' '_' '_' '_' '_' '_' '_' '_']\n",
      " ['_' '_' '_' '_' '_' '_' '_' '_' '_' '_']\n",
      " ['_' '_' '_' '_' '_' '_' '_' '_' '_' '_']\n",
      " ['_' '_' '_' '_' '_' '_' '_' '_' '_' '_']\n",
      " ['_' '_' '_' '_' '_' '_' '_' '_' '_' '_']\n",
      " ['_' '_' '_' '_' '_' '_' '_' '_' '_' '_']\n",
      " ['_' '_' '_' '_' '_' '_' '_' '_' '_' '_']]\n"
     ]
    }
   ],
   "source": [
    "tablero = crear_tablero(10)  #con su tamaño de 10 casillas\n",
    "\n",
    "barco_1 = [(0,1), (1,1)] \n",
    "barco_2 = [(1,3), (1,4), (1,5), (1,6)]\n",
    "\n",
    "tablero = colocar_barco(barco_1, tablero)     #se sobreesriben\n",
    "tablero = colocar_barco(barco_2, tablero)     #se sobreesriben\n",
    "\n",
    "tablero = disparar((0,0), tablero)     #se sobreesriben\n",
    "tablero = disparar((0,1), tablero)     #se sobreesriben\n",
    "tablero = disparar((1,1), tablero)     #se sobreesriben\n",
    "\n",
    "print(tablero)"
   ]
  },
  {
   "cell_type": "code",
   "execution_count": 22,
   "metadata": {
    "tags": [
     "horizontal vertical"
    ]
   },
   "outputs": [],
   "source": [
    "import random\n",
    "\n",
    "def crear_barco(eslora):\n",
    "    casilla_0 = (random.randint(0,9), random.randint(0,9))    #la casilla 0 del barco nuevo creado\n",
    "    orientacion = random.choice([\"Vertical\", \"Horizontal\"])\n",
    "\n",
    "    barco = [casilla_0]\n",
    "    casilla = casilla_0\n",
    "    while len(barco) < eslora:\n",
    "        if orientacion == \"Vertical\":\n",
    "            casilla = (casilla[0]+1, casilla[1])\n",
    "            barco.append(casilla)                       # Vertical\n",
    "        else:\n",
    "            casilla = (casilla[0], casilla[1]+1)\n",
    "            barco.append(casilla)                       # Horizontal\n",
    "\n",
    "    return barco"
   ]
  },
  {
   "cell_type": "code",
   "execution_count": 24,
   "metadata": {},
   "outputs": [
    {
     "name": "stdout",
     "output_type": "stream",
     "text": [
      "Agua\n",
      "Agua\n",
      "Agua\n",
      "[['A' 'A' '_' '_' '_' '_' '_' '_' '_' '_']\n",
      " ['_' 'A' '_' '_' 'O' '_' '_' '_' '_' '_']\n",
      " ['_' '_' '_' '_' 'O' '_' '_' '_' '_' '_']\n",
      " ['_' '_' '_' '_' 'O' '_' '_' '_' '_' '_']\n",
      " ['_' '_' '_' '_' 'O' '_' '_' '_' '_' '_']\n",
      " ['_' '_' '_' 'O' '_' '_' '_' '_' '_' '_']\n",
      " ['_' '_' '_' 'O' '_' '_' '_' '_' '_' '_']\n",
      " ['_' '_' '_' '_' '_' '_' '_' '_' '_' '_']\n",
      " ['_' '_' '_' '_' '_' '_' '_' '_' '_' '_']\n",
      " ['_' '_' '_' '_' '_' '_' '_' '_' '_' '_']]\n"
     ]
    }
   ],
   "source": [
    "tablero = crear_tablero(10)\n",
    "\n",
    "barco_1 = crear_barco(2)\n",
    "barco_2 = crear_barco(4)\n",
    "try:\n",
    "    tablero = colocar_barco(barco_1, tablero)\n",
    "    tablero = colocar_barco(barco_2, tablero)\n",
    "except:\n",
    "    print(\"Habrá que generar nuevo barco porque se sale del tablero\")\n",
    "\n",
    "tablero = disparar((0,0), tablero)\n",
    "tablero = disparar((0,1), tablero)\n",
    "tablero = disparar((1,1), tablero)\n",
    "\n",
    "print(tablero)"
   ]
  },
  {
   "cell_type": "code",
   "execution_count": null,
   "metadata": {},
   "outputs": [],
   "source": [
    "def colocar_barcos(tablero):\n",
    "    \n",
    "    barcos_esloras = [2, 2, 2, 3, 3, 4]  # Lista de tamaños de barcos\n",
    "    i = 0  # Inicializamos un contador para iterar por cada barco\n",
    "\n",
    "    while i < len(barcos_esloras):\n",
    "        eslora = barcos_esloras[i]  # i es 0 como he indicado!!!\n",
    "        barco = crear_barco(eslora)  # Creamos un barco, solo pasamos la eslora\n",
    "        try:\n",
    "            tablero = colocar_barco(barco, tablero)  # Intentamos colocarlo en el tablero\n",
    "            i = i + 1  # Solo avanzamos al siguiente barco si el barco actual se coloca correctamente\n",
    "        except ValueError:\n",
    "            pass  # Si no se puede colocar, volvemos a intentar con el mismo barco\n",
    "                  #SE VUELVE A INTENTAR\n",
    "    return tablero\n"
   ]
  },
  {
   "cell_type": "code",
   "execution_count": 26,
   "metadata": {},
   "outputs": [],
   "source": [
    "# Función para comprobar si todos los barcos de un tablero están hundidos\n",
    "def barcos_hundidos(tablero):\n",
    "    return not any(\"O\" in fila for fila in tablero)  # Si no queda ninguna \"O\", todos los barcos están hundidos\n"
   ]
  },
  {
   "cell_type": "code",
   "execution_count": 27,
   "metadata": {},
   "outputs": [],
   "source": [
    "# Turno del jugador (dispara al tablero de la máquina)\n",
    "def turno_jugador(tablero_maquina):\n",
    "    while True:\n",
    "        try:\n",
    "            fila = int(input(\"Introduce la fila (0-9) para disparar: \"))\n",
    "            columna = int(input(\"Introduce la columna (0-9) para disparar: \"))\n",
    "            casilla = (fila, columna)\n",
    "            resultado = disparar(casilla, tablero_maquina)\n",
    "            print(f\"Usted disparó en {casilla} y resultó en: {resultado}\")\n",
    "            print(resultado)\n",
    "            break\n",
    "        except (ValueError, IndexError):\n",
    "            print(\"Coordenadas inválidas, inténtalo de nuevo.\")"
   ]
  },
  {
   "cell_type": "code",
   "execution_count": 28,
   "metadata": {},
   "outputs": [],
   "source": [
    "# Turno de la máquina (dispara al tablero del jugador de forma aleatoria)\n",
    "def turno_maquina(tablero_jugador):\n",
    "    while True:\n",
    "        fila = random.randint(0, 9)\n",
    "        columna = random.randint(0, 9)\n",
    "        casilla = (fila, columna)\n",
    "        resultado = disparar(casilla, tablero_jugador)\n",
    "        if resultado != \"Ya disparaste aquí\":\n",
    "            print(f\"La máquina disparó en {casilla} y resultó en: {resultado}\")\n",
    "            break"
   ]
  },
  {
   "cell_type": "code",
   "execution_count": null,
   "metadata": {},
   "outputs": [],
   "source": []
  }
 ],
 "metadata": {
  "kernelspec": {
   "display_name": "Python 3",
   "language": "python",
   "name": "python3"
  },
  "language_info": {
   "codemirror_mode": {
    "name": "ipython",
    "version": 3
   },
   "file_extension": ".py",
   "mimetype": "text/x-python",
   "name": "python",
   "nbconvert_exporter": "python",
   "pygments_lexer": "ipython3",
   "version": "3.12.6"
  }
 },
 "nbformat": 4,
 "nbformat_minor": 2
}
